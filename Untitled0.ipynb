{
 "metadata": {
  "name": "",
  "signature": "sha256:e62af0e44c9ea875c257b7afa8b9d2aafbb1987619fa3317fc34e82ce7e40c52"
 },
 "nbformat": 3,
 "nbformat_minor": 0,
 "worksheets": [
  {
   "cells": [
    {
     "cell_type": "code",
     "collapsed": false,
     "input": [
      "from bs4 import BeautifulSoup\n",
      "from steve.util import (get_project_config, get_from_config, load_json_files, save_json_files)\n",
      "from steve import richardapi\n",
      "import requests"
     ],
     "language": "python",
     "metadata": {},
     "outputs": [],
     "prompt_number": 9
    },
    {
     "cell_type": "code",
     "collapsed": false,
     "input": [
      "cfg = get_project_config()"
     ],
     "language": "python",
     "metadata": {},
     "outputs": [],
     "prompt_number": 7
    },
    {
     "cell_type": "code",
     "collapsed": false,
     "input": [
      "apiurl = get_from_config(cfg, 'api_url')"
     ],
     "language": "python",
     "metadata": {},
     "outputs": [],
     "prompt_number": 10
    },
    {
     "cell_type": "code",
     "collapsed": false,
     "input": [
      "category = richardapi.get_category(apiurl, 'PyCon US 2009')"
     ],
     "language": "python",
     "metadata": {},
     "outputs": [],
     "prompt_number": 14
    },
    {
     "cell_type": "code",
     "collapsed": false,
     "input": [
      "videos = category['videos']\n",
      "    "
     ],
     "language": "python",
     "metadata": {},
     "outputs": [],
     "prompt_number": 16
    },
    {
     "cell_type": "code",
     "collapsed": false,
     "input": [
      "stevedata = []\n",
      "for v in videos:\n",
      "    r = requests.get(v)\n",
      "    j = r.json()\n",
      "    stevedata.append(('%s.json' % j['id'], j))"
     ],
     "language": "python",
     "metadata": {},
     "outputs": [],
     "prompt_number": 25
    },
    {
     "cell_type": "code",
     "collapsed": false,
     "input": [
      "save_json_files(cfg, stevedata)"
     ],
     "language": "python",
     "metadata": {},
     "outputs": [],
     "prompt_number": 27
    },
    {
     "cell_type": "code",
     "collapsed": false,
     "input": [
      "soup = BeautifulSoup(open('talks.html'))"
     ],
     "language": "python",
     "metadata": {},
     "outputs": [],
     "prompt_number": 30
    },
    {
     "cell_type": "code",
     "collapsed": false,
     "input": [
      "proposals_soup = soup.find_all('div', class_='proposal_list_summary')"
     ],
     "language": "python",
     "metadata": {},
     "outputs": [],
     "prompt_number": 38
    },
    {
     "cell_type": "code",
     "collapsed": false,
     "input": [
      "psoup = proposals_soup[0]"
     ],
     "language": "python",
     "metadata": {},
     "outputs": [],
     "prompt_number": 41
    },
    {
     "cell_type": "code",
     "collapsed": false,
     "input": [
      "def get_title_and_speakers(soup):                                                                                       \n",
      "    header = soup.h2                                                                                                    \n",
      "    spans = header.a.find_all('span')                                                                                   \n",
      "    title = spans[1].text.strip()                                                                                       \n",
      "    author = header.next_sibling.next_sibling.text                                                                      \n",
      "    return title, author "
     ],
     "language": "python",
     "metadata": {},
     "outputs": [],
     "prompt_number": 82
    },
    {
     "cell_type": "code",
     "collapsed": false,
     "input": [
      "speakerd = {}\n",
      "for p in proposals_soup:\n",
      "    title, speaker = get_title_and_speakers(p)\n",
      "    speakerd[title] = speaker"
     ],
     "language": "python",
     "metadata": {},
     "outputs": [],
     "prompt_number": 89
    },
    {
     "cell_type": "code",
     "collapsed": false,
     "input": [
      "titles = []\n",
      "for data in stevedata:\n",
      "    title = data[1].get('title')\n",
      "    titles.append(title.replace('PyCon 2009: ', ''))"
     ],
     "language": "python",
     "metadata": {},
     "outputs": [],
     "prompt_number": 107
    },
    {
     "cell_type": "code",
     "collapsed": false,
     "input": [
      "import json"
     ],
     "language": "python",
     "metadata": {},
     "outputs": [],
     "prompt_number": 111
    },
    {
     "cell_type": "code",
     "collapsed": false,
     "input": [
      "json.dump(stevedata, open('stevedata.json', 'w'), indent=2, sort_keys=True)"
     ],
     "language": "python",
     "metadata": {},
     "outputs": [],
     "prompt_number": 121
    },
    {
     "cell_type": "code",
     "collapsed": false,
     "input": [
      "json.dump(speakerd, open('scrapedspeakers.json', 'w'), indent=2, sort_keys=True)"
     ],
     "language": "python",
     "metadata": {},
     "outputs": [],
     "prompt_number": 120
    },
    {
     "cell_type": "code",
     "collapsed": false,
     "input": [],
     "language": "python",
     "metadata": {},
     "outputs": []
    }
   ],
   "metadata": {}
  }
 ]
}